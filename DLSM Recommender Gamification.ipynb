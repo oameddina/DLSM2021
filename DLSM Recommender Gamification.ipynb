{
 "cells": [
  {
   "cell_type": "code",
   "execution_count": null,
   "metadata": {},
   "outputs": [],
   "source": [
    "#Recommender algorithm "
   ]
  },
  {
   "cell_type": "code",
   "execution_count": 44,
   "metadata": {
    "scrolled": true
   },
   "outputs": [
    {
     "name": "stdout",
     "output_type": "stream",
     "text": [
      "        movieId  rating   timestamp\n",
      "userId                             \n",
      "1            16     4.0  1217897793\n",
      "1            24     1.5  1217895807\n",
      "1            32     4.0  1217896246\n",
      "1            47     4.0  1217896556\n",
      "1            50     4.0  1217896523\n",
      "...         ...     ...         ...\n",
      "668      142488     4.0  1451535844\n",
      "668      142507     3.5  1451535889\n",
      "668      143385     4.0  1446388585\n",
      "668      144976     2.5  1448656898\n",
      "668      148626     4.5  1451148148\n",
      "\n",
      "[105339 rows x 3 columns]\n"
     ]
    },
    {
     "data": {
      "text/plain": [
       "pandas.core.frame.DataFrame"
      ]
     },
     "execution_count": 44,
     "metadata": {},
     "output_type": "execute_result"
    }
   ],
   "source": [
    "# import libraries \n",
    "import pandas as pd\n",
    "import numpy as np\n",
    "\n",
    "#https://www.kaggle.com/ayushimishra2809/movielens-dataset?select=ratings.csv\n",
    "\n",
    "url = 'https://raw.githubusercontent.com/oameddina/DLSM2021/main/rating.csv'\n",
    "df = pd.read_csv(url,index_col=0)\n",
    "\n",
    "print (df)\n",
    "\n",
    "type(df)"
   ]
  },
  {
   "cell_type": "code",
   "execution_count": 45,
   "metadata": {},
   "outputs": [
    {
     "name": "stdout",
     "output_type": "stream",
     "text": [
      "       movieId                                title  \\\n",
      "0            1                     Toy Story (1995)   \n",
      "1            2                       Jumanji (1995)   \n",
      "2            3              Grumpier Old Men (1995)   \n",
      "3            4             Waiting to Exhale (1995)   \n",
      "4            5   Father of the Bride Part II (1995)   \n",
      "...        ...                                  ...   \n",
      "10324   146684        Cosmic Scrat-tastrophe (2015)   \n",
      "10325   146878           Le Grand Restaurant (1966)   \n",
      "10326   148238       A Very Murray Christmas (2015)   \n",
      "10327   148626                 The Big Short (2015)   \n",
      "10328   149532  Marco Polo: One Hundred Eyes (2015)   \n",
      "\n",
      "                                            genres  \n",
      "0      Adventure|Animation|Children|Comedy|Fantasy  \n",
      "1                       Adventure|Children|Fantasy  \n",
      "2                                   Comedy|Romance  \n",
      "3                             Comedy|Drama|Romance  \n",
      "4                                           Comedy  \n",
      "...                                            ...  \n",
      "10324                    Animation|Children|Comedy  \n",
      "10325                                       Comedy  \n",
      "10326                                       Comedy  \n",
      "10327                                        Drama  \n",
      "10328                           (no genres listed)  \n",
      "\n",
      "[10329 rows x 3 columns]\n"
     ]
    }
   ],
   "source": [
    "\n",
    "urlm = 'https://raw.githubusercontent.com/oameddina/DLSM2021/main/rating.csv'\n",
    "dfm = pd.read_csv(urlm,index_col=0)\n",
    "\n",
    "print (dfmovies)\n"
   ]
  },
  {
   "cell_type": "code",
   "execution_count": 46,
   "metadata": {},
   "outputs": [
    {
     "name": "stdout",
     "output_type": "stream",
     "text": [
      "296      325\n",
      "356      311\n",
      "318      308\n",
      "480      294\n",
      "593      290\n",
      "        ... \n",
      "60482      1\n",
      "78905      1\n",
      "7196       1\n",
      "5085       1\n",
      "6109       1\n",
      "Name: movieId, Length: 10325, dtype: int64\n"
     ]
    },
    {
     "data": {
      "text/plain": [
       "pandas.core.series.Series"
      ]
     },
     "execution_count": 46,
     "metadata": {},
     "output_type": "execute_result"
    }
   ],
   "source": [
    "# Count values according to \"movieId\"\n",
    "newdf = df['movieId'].value_counts()\n",
    "newdf.fillna(0)\n",
    "print(newdf)\n",
    "len(newdf)\n",
    "type(newdf)"
   ]
  },
  {
   "cell_type": "code",
   "execution_count": 47,
   "metadata": {
    "scrolled": true
   },
   "outputs": [
    {
     "data": {
      "text/html": [
       "<div>\n",
       "<style scoped>\n",
       "    .dataframe tbody tr th:only-of-type {\n",
       "        vertical-align: middle;\n",
       "    }\n",
       "\n",
       "    .dataframe tbody tr th {\n",
       "        vertical-align: top;\n",
       "    }\n",
       "\n",
       "    .dataframe thead th {\n",
       "        text-align: right;\n",
       "    }\n",
       "</style>\n",
       "<table border=\"1\" class=\"dataframe\">\n",
       "  <thead>\n",
       "    <tr style=\"text-align: right;\">\n",
       "      <th></th>\n",
       "      <th>index</th>\n",
       "      <th>movieId</th>\n",
       "    </tr>\n",
       "  </thead>\n",
       "  <tbody>\n",
       "    <tr>\n",
       "      <th>0</th>\n",
       "      <td>296</td>\n",
       "      <td>325</td>\n",
       "    </tr>\n",
       "    <tr>\n",
       "      <th>1</th>\n",
       "      <td>356</td>\n",
       "      <td>311</td>\n",
       "    </tr>\n",
       "    <tr>\n",
       "      <th>2</th>\n",
       "      <td>318</td>\n",
       "      <td>308</td>\n",
       "    </tr>\n",
       "    <tr>\n",
       "      <th>3</th>\n",
       "      <td>480</td>\n",
       "      <td>294</td>\n",
       "    </tr>\n",
       "    <tr>\n",
       "      <th>4</th>\n",
       "      <td>593</td>\n",
       "      <td>290</td>\n",
       "    </tr>\n",
       "    <tr>\n",
       "      <th>...</th>\n",
       "      <td>...</td>\n",
       "      <td>...</td>\n",
       "    </tr>\n",
       "    <tr>\n",
       "      <th>10320</th>\n",
       "      <td>60482</td>\n",
       "      <td>1</td>\n",
       "    </tr>\n",
       "    <tr>\n",
       "      <th>10321</th>\n",
       "      <td>78905</td>\n",
       "      <td>1</td>\n",
       "    </tr>\n",
       "    <tr>\n",
       "      <th>10322</th>\n",
       "      <td>7196</td>\n",
       "      <td>1</td>\n",
       "    </tr>\n",
       "    <tr>\n",
       "      <th>10323</th>\n",
       "      <td>5085</td>\n",
       "      <td>1</td>\n",
       "    </tr>\n",
       "    <tr>\n",
       "      <th>10324</th>\n",
       "      <td>6109</td>\n",
       "      <td>1</td>\n",
       "    </tr>\n",
       "  </tbody>\n",
       "</table>\n",
       "<p>10325 rows × 2 columns</p>\n",
       "</div>"
      ],
      "text/plain": [
       "       index  movieId\n",
       "0        296      325\n",
       "1        356      311\n",
       "2        318      308\n",
       "3        480      294\n",
       "4        593      290\n",
       "...      ...      ...\n",
       "10320  60482        1\n",
       "10321  78905        1\n",
       "10322   7196        1\n",
       "10323   5085        1\n",
       "10324   6109        1\n",
       "\n",
       "[10325 rows x 2 columns]"
      ]
     },
     "execution_count": 47,
     "metadata": {},
     "output_type": "execute_result"
    }
   ],
   "source": [
    "# Add numeration\n",
    "aa=newdf.to_frame().reset_index()\n",
    "aa"
   ]
  },
  {
   "cell_type": "code",
   "execution_count": 48,
   "metadata": {},
   "outputs": [
    {
     "name": "stdout",
     "output_type": "stream",
     "text": [
      "       movieId  number of ratings\n",
      "0          296                325\n",
      "1          356                311\n",
      "2          318                308\n",
      "3          480                294\n",
      "4          593                290\n",
      "...        ...                ...\n",
      "10320    60482                  1\n",
      "10321    78905                  1\n",
      "10322     7196                  1\n",
      "10323     5085                  1\n",
      "10324     6109                  1\n",
      "\n",
      "[10325 rows x 2 columns]\n"
     ]
    }
   ],
   "source": [
    "# Change column name movieId to number of ratings\n",
    "aa = aa.rename(columns={'movieId': 'number of ratings'})\n",
    "aa = aa.rename(columns={'index': 'movieId'})\n",
    "print(aa)"
   ]
  },
  {
   "cell_type": "code",
   "execution_count": 49,
   "metadata": {},
   "outputs": [
    {
     "name": "stdout",
     "output_type": "stream",
     "text": [
      "      movieId  number of ratings\n",
      "6687    26034                  1\n",
      "6688    64930                  1\n",
      "6689   124867                  1\n",
      "6690     3839                  1\n",
      "6691     6828                  1\n",
      "...       ...                ...\n",
      "2110     4508                 11\n",
      "2111     2247                 11\n",
      "2112     2540                 11\n",
      "2113    39446                 11\n",
      "2114     6857                 11\n",
      "\n",
      "[8260 rows x 2 columns]\n"
     ]
    }
   ],
   "source": [
    "# Get the 80% of least rated movies\n",
    "smallaa = aa.nsmallest(8260, ['number of ratings'])\n",
    "print(smallaa)"
   ]
  },
  {
   "cell_type": "code",
   "execution_count": 50,
   "metadata": {},
   "outputs": [
    {
     "data": {
      "text/plain": [
       "movieId              302546838\n",
       "number of ratings        23885\n",
       "dtype: int64"
      ]
     },
     "execution_count": 50,
     "metadata": {},
     "output_type": "execute_result"
    }
   ],
   "source": [
    "# Adding up the number of ratings\n",
    "\n",
    "smallaa.sum(axis = 0, skipna = True)"
   ]
  },
  {
   "cell_type": "code",
   "execution_count": 51,
   "metadata": {},
   "outputs": [
    {
     "name": "stdout",
     "output_type": "stream",
     "text": [
      "      movieId  number of ratings  \\\n",
      "0       26034                  1   \n",
      "1       64930                  1   \n",
      "2      124867                  1   \n",
      "3        3839                  1   \n",
      "4        6828                  1   \n",
      "...       ...                ...   \n",
      "8255     4508                 11   \n",
      "8256     2247                 11   \n",
      "8257     2540                 11   \n",
      "8258    39446                 11   \n",
      "8259     6857                 11   \n",
      "\n",
      "                                                  title  \\\n",
      "0                               Last Hurrah, The (1958)   \n",
      "1                          More the Merrier, The (1943)   \n",
      "2             Justice League: Throne of Atlantis (2015)   \n",
      "3                          Phantasm IV: Oblivion (1998)   \n",
      "4     Sunday in the Country, A (Un dimanche à la cam...   \n",
      "...                                                 ...   \n",
      "8255                        Gorillas in the Mist (1988)   \n",
      "8256                          Married to the Mob (1988)   \n",
      "8257                              Corruptor, The (1999)   \n",
      "8258                                      Saw II (2005)   \n",
      "8259               Ninja Scroll (Jûbei ninpûchô) (1995)   \n",
      "\n",
      "                                  genres  \n",
      "0                                  Drama  \n",
      "1                         Comedy|Romance  \n",
      "2                       Action|Animation  \n",
      "3                                 Horror  \n",
      "4                                  Drama  \n",
      "...                                  ...  \n",
      "8255                               Drama  \n",
      "8256                              Comedy  \n",
      "8257         Action|Crime|Drama|Thriller  \n",
      "8258                     Horror|Thriller  \n",
      "8259  Action|Adventure|Animation|Fantasy  \n",
      "\n",
      "[8260 rows x 4 columns]\n"
     ]
    }
   ],
   "source": [
    "# Smallaa is a dynamic database which lists the films with the least number of ratings. \n",
    "# Now we have a pool of movies where content based recommender system will be applied.  \n",
    "\n",
    "df_movieData = pd.merge(smallaa, dfmovies, on = 'movieId')\n",
    "print(df_movieData)"
   ]
  },
  {
   "cell_type": "code",
   "execution_count": 59,
   "metadata": {},
   "outputs": [
    {
     "data": {
      "text/html": [
       "<div>\n",
       "<style scoped>\n",
       "    .dataframe tbody tr th:only-of-type {\n",
       "        vertical-align: middle;\n",
       "    }\n",
       "\n",
       "    .dataframe tbody tr th {\n",
       "        vertical-align: top;\n",
       "    }\n",
       "\n",
       "    .dataframe thead th {\n",
       "        text-align: right;\n",
       "    }\n",
       "</style>\n",
       "<table border=\"1\" class=\"dataframe\">\n",
       "  <thead>\n",
       "    <tr style=\"text-align: right;\">\n",
       "      <th></th>\n",
       "      <th>movieId</th>\n",
       "      <th>number of ratings</th>\n",
       "      <th>title</th>\n",
       "      <th>genres</th>\n",
       "    </tr>\n",
       "  </thead>\n",
       "  <tbody>\n",
       "    <tr>\n",
       "      <th>2079</th>\n",
       "      <td>2698</td>\n",
       "      <td>1</td>\n",
       "      <td>Zone 39 (1997)</td>\n",
       "      <td>Sci-Fi</td>\n",
       "    </tr>\n",
       "    <tr>\n",
       "      <th>6625</th>\n",
       "      <td>105213</td>\n",
       "      <td>5</td>\n",
       "      <td>Don Jon (2013)</td>\n",
       "      <td>Comedy|Drama|Romance</td>\n",
       "    </tr>\n",
       "    <tr>\n",
       "      <th>1285</th>\n",
       "      <td>7382</td>\n",
       "      <td>1</td>\n",
       "      <td>I'm Not Scared (Io non ho paura) (2003)</td>\n",
       "      <td>Drama|Mystery|Thriller</td>\n",
       "    </tr>\n",
       "    <tr>\n",
       "      <th>5450</th>\n",
       "      <td>6196</td>\n",
       "      <td>3</td>\n",
       "      <td>Cradle 2 the Grave (2003)</td>\n",
       "      <td>Action|Crime|Drama|Thriller</td>\n",
       "    </tr>\n",
       "    <tr>\n",
       "      <th>4128</th>\n",
       "      <td>4999</td>\n",
       "      <td>2</td>\n",
       "      <td>Dodsworth (1936)</td>\n",
       "      <td>Drama|Romance</td>\n",
       "    </tr>\n",
       "    <tr>\n",
       "      <th>1171</th>\n",
       "      <td>3914</td>\n",
       "      <td>1</td>\n",
       "      <td>Broken Hearts Club, The (2000)</td>\n",
       "      <td>Drama</td>\n",
       "    </tr>\n",
       "    <tr>\n",
       "      <th>8202</th>\n",
       "      <td>2518</td>\n",
       "      <td>11</td>\n",
       "      <td>Night Shift (1982)</td>\n",
       "      <td>Comedy</td>\n",
       "    </tr>\n",
       "    <tr>\n",
       "      <th>6980</th>\n",
       "      <td>2051</td>\n",
       "      <td>6</td>\n",
       "      <td>Herbie Goes to Monte Carlo (1977)</td>\n",
       "      <td>Adventure|Children|Comedy</td>\n",
       "    </tr>\n",
       "  </tbody>\n",
       "</table>\n",
       "</div>"
      ],
      "text/plain": [
       "      movieId  number of ratings                                    title  \\\n",
       "2079     2698                  1                           Zone 39 (1997)   \n",
       "6625   105213                  5                           Don Jon (2013)   \n",
       "1285     7382                  1  I'm Not Scared (Io non ho paura) (2003)   \n",
       "5450     6196                  3                Cradle 2 the Grave (2003)   \n",
       "4128     4999                  2                         Dodsworth (1936)   \n",
       "1171     3914                  1           Broken Hearts Club, The (2000)   \n",
       "8202     2518                 11                       Night Shift (1982)   \n",
       "6980     2051                  6        Herbie Goes to Monte Carlo (1977)   \n",
       "\n",
       "                           genres  \n",
       "2079                       Sci-Fi  \n",
       "6625         Comedy|Drama|Romance  \n",
       "1285       Drama|Mystery|Thriller  \n",
       "5450  Action|Crime|Drama|Thriller  \n",
       "4128                Drama|Romance  \n",
       "1171                        Drama  \n",
       "8202                       Comedy  \n",
       "6980    Adventure|Children|Comedy  "
      ]
     },
     "execution_count": 59,
     "metadata": {},
     "output_type": "execute_result"
    }
   ],
   "source": [
    "# Select 5 random films from the genre\n",
    "\n",
    "df_movieData.sample(n=8)"
   ]
  },
  {
   "cell_type": "code",
   "execution_count": null,
   "metadata": {},
   "outputs": [],
   "source": []
  }
 ],
 "metadata": {
  "kernelspec": {
   "display_name": "Python 3",
   "language": "python",
   "name": "python3"
  },
  "language_info": {
   "codemirror_mode": {
    "name": "ipython",
    "version": 3
   },
   "file_extension": ".py",
   "mimetype": "text/x-python",
   "name": "python",
   "nbconvert_exporter": "python",
   "pygments_lexer": "ipython3",
   "version": "3.8.8"
  }
 },
 "nbformat": 4,
 "nbformat_minor": 4
}
